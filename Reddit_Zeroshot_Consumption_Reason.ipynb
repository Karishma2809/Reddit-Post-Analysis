{
 "cells": [
  {
   "cell_type": "code",
   "execution_count": 1,
   "id": "e4d24c12",
   "metadata": {
    "id": "e4d24c12"
   },
   "outputs": [],
   "source": [
    "import torch\n",
    "\n"
   ]
  },
  {
   "cell_type": "code",
   "execution_count": 2,
   "id": "173144f6",
   "metadata": {
    "id": "173144f6"
   },
   "outputs": [],
   "source": [
    "import pandas as pd"
   ]
  },
  {
   "cell_type": "code",
   "execution_count": 3,
   "id": "7835d13c",
   "metadata": {
    "id": "7835d13c"
   },
   "outputs": [],
   "source": [
    "from transformers import AutoTokenizer, AutoModelForSequenceClassification"
   ]
  },
  {
   "cell_type": "code",
   "execution_count": 4,
   "id": "ff674b3f",
   "metadata": {
    "id": "ff674b3f"
   },
   "outputs": [],
   "source": [
    "from transformers import pipeline"
   ]
  },
  {
   "cell_type": "code",
   "execution_count": 5,
   "id": "3be1268a",
   "metadata": {
    "id": "3be1268a"
   },
   "outputs": [],
   "source": [
    "from tqdm import tqdm"
   ]
  },
  {
   "cell_type": "code",
   "execution_count": 6,
   "id": "953f92c6",
   "metadata": {
    "id": "953f92c6"
   },
   "outputs": [],
   "source": [
    "tqdm.pandas()"
   ]
  },
  {
   "cell_type": "code",
   "execution_count": 7,
   "id": "2c8df702",
   "metadata": {
    "id": "2c8df702"
   },
   "outputs": [],
   "source": [
    "classifier = pipeline(model = \"facebook/bart-large-mnli\")"
   ]
  },
  {
   "cell_type": "code",
   "execution_count": 8,
   "id": "77c2423d",
   "metadata": {
    "id": "77c2423d"
   },
   "outputs": [],
   "source": [
    "import re"
   ]
  },
  {
   "cell_type": "code",
   "execution_count": 9,
   "id": "41f3d79a",
   "metadata": {
    "id": "41f3d79a"
   },
   "outputs": [],
   "source": [
    "def clean_text(text):\n",
    "    text = text.lower()\n",
    "    text = re.sub(r'http\\S+', '', text)  # Remove URLs\n",
    "    text = re.sub(r'@\\w+', '', text)  # Remove mentions\n",
    "    text = re.sub(r'#\\w+', '', text)  # Remove hashtags\n",
    "    text = re.sub(r'[^\\w\\s]', '', text)  # Remove special characters and punctuation\n",
    "    return text"
   ]
  },
  {
   "cell_type": "code",
   "execution_count": 10,
   "id": "dd6d9789",
   "metadata": {
    "id": "dd6d9789"
   },
   "outputs": [],
   "source": [
    "def classify_and_extract_scores(text, input_labels):\n",
    "    result = classifier(text, input_labels, multi_label=True)\n",
    "    scores = {label: score for label, score in zip(result['labels'], result['scores'])}\n",
    "    return scores"
   ]
  },
  {
   "cell_type": "code",
   "execution_count": 11,
   "id": "5c35d9d3",
   "metadata": {
    "id": "5c35d9d3"
   },
   "outputs": [],
   "source": [
    "def classify_and_extract_confidence(text, input_labels):\n",
    "    result = classifier(text, input_labels, multi_label=False)\n",
    "    scores = {label: score for label, score in zip(result['labels'], result['scores'])}\n",
    "    return scores"
   ]
  },
  {
   "cell_type": "code",
   "execution_count": 12,
   "id": "2185a688",
   "metadata": {
    "id": "2185a688"
   },
   "outputs": [],
   "source": [
    "df = pd.read_csv('Reddit_Post_Cleaned.csv')"
   ]
  },
  {
   "cell_type": "code",
   "execution_count": 13,
   "id": "dd51814c",
   "metadata": {
    "id": "dd51814c",
    "outputId": "23da764d-1b98-4cfd-ee5e-8d766160c1aa"
   },
   "outputs": [
    {
     "data": {
      "text/plain": [
       "Index(['Username', 'PostTitle', 'Date', 'Full_Post', 'PostURL', 'Upvotes',\n",
       "       'WordCount', 'Cleaned_Full_Post'],\n",
       "      dtype='object')"
      ]
     },
     "execution_count": 13,
     "metadata": {},
     "output_type": "execute_result"
    }
   ],
   "source": [
    "df.columns"
   ]
  },
  {
   "cell_type": "code",
   "execution_count": 14,
   "id": "a9c2cf27",
   "metadata": {
    "id": "a9c2cf27",
    "outputId": "55f27d60-fff8-4df0-d122-195e7113912e"
   },
   "outputs": [
    {
     "data": {
      "text/plain": [
       "Username             0\n",
       "PostTitle            0\n",
       "Date                 0\n",
       "Full_Post            0\n",
       "PostURL              0\n",
       "Upvotes              0\n",
       "WordCount            0\n",
       "Cleaned_Full_Post    0\n",
       "dtype: int64"
      ]
     },
     "execution_count": 14,
     "metadata": {},
     "output_type": "execute_result"
    }
   ],
   "source": [
    "df.isna().sum()"
   ]
  },
  {
   "cell_type": "code",
   "execution_count": 15,
   "id": "7fef871c",
   "metadata": {},
   "outputs": [
    {
     "data": {
      "text/html": [
       "<div>\n",
       "<style scoped>\n",
       "    .dataframe tbody tr th:only-of-type {\n",
       "        vertical-align: middle;\n",
       "    }\n",
       "\n",
       "    .dataframe tbody tr th {\n",
       "        vertical-align: top;\n",
       "    }\n",
       "\n",
       "    .dataframe thead th {\n",
       "        text-align: right;\n",
       "    }\n",
       "</style>\n",
       "<table border=\"1\" class=\"dataframe\">\n",
       "  <thead>\n",
       "    <tr style=\"text-align: right;\">\n",
       "      <th></th>\n",
       "      <th>Username</th>\n",
       "      <th>PostTitle</th>\n",
       "      <th>Date</th>\n",
       "      <th>Full_Post</th>\n",
       "      <th>PostURL</th>\n",
       "      <th>Upvotes</th>\n",
       "      <th>WordCount</th>\n",
       "      <th>Cleaned_Full_Post</th>\n",
       "    </tr>\n",
       "  </thead>\n",
       "  <tbody>\n",
       "    <tr>\n",
       "      <th>0</th>\n",
       "      <td>u/sc1234</td>\n",
       "      <td>Fibonacci sequence approach</td>\n",
       "      <td>2012-12-11</td>\n",
       "      <td>Thanks to JoshTay for setting this up. Here's ...</td>\n",
       "      <td>http://www.reddit.com/r/Petioles/comments/14ow...</td>\n",
       "      <td>55</td>\n",
       "      <td>243</td>\n",
       "      <td>Thanks JoshTay setting . 's comment made earli...</td>\n",
       "    </tr>\n",
       "    <tr>\n",
       "      <th>1</th>\n",
       "      <td>u/[deleted]</td>\n",
       "      <td>Please help.</td>\n",
       "      <td>2012-12-12</td>\n",
       "      <td>Alright i just want to start right off the bat...</td>\n",
       "      <td>http://www.reddit.com/r/Petioles/comments/14r4...</td>\n",
       "      <td>0</td>\n",
       "      <td>129</td>\n",
       "      <td>Alright want start right bat saying understand...</td>\n",
       "    </tr>\n",
       "    <tr>\n",
       "      <th>2</th>\n",
       "      <td>u/IVtheGREEN</td>\n",
       "      <td>Everything is easy in thought.</td>\n",
       "      <td>2012-12-12</td>\n",
       "      <td>I have no desire to stop smoking. I am a 17 ye...</td>\n",
       "      <td>http://www.reddit.com/r/Petioles/comments/14r4...</td>\n",
       "      <td>8</td>\n",
       "      <td>129</td>\n",
       "      <td>desire stop smoking . 17 year old honor societ...</td>\n",
       "    </tr>\n",
       "    <tr>\n",
       "      <th>3</th>\n",
       "      <td>u/Cog-Rat</td>\n",
       "      <td>Balance Makes Perfect</td>\n",
       "      <td>2012-12-12</td>\n",
       "      <td>Iv'e found that when I rush home and pack my f...</td>\n",
       "      <td>http://www.reddit.com/r/Petioles/comments/14r3...</td>\n",
       "      <td>38</td>\n",
       "      <td>192</td>\n",
       "      <td>Iv ' e found rush home pack first bowl seconds...</td>\n",
       "    </tr>\n",
       "    <tr>\n",
       "      <th>4</th>\n",
       "      <td>u/BitJuNkiE</td>\n",
       "      <td>Highschool conflicts</td>\n",
       "      <td>2012-12-12</td>\n",
       "      <td>Hey r/petioles, I have some questions I would ...</td>\n",
       "      <td>http://www.reddit.com/r/Petioles/comments/14qt...</td>\n",
       "      <td>1</td>\n",
       "      <td>74</td>\n",
       "      <td>Hey r/petioles , questions would like second o...</td>\n",
       "    </tr>\n",
       "  </tbody>\n",
       "</table>\n",
       "</div>"
      ],
      "text/plain": [
       "       Username                       PostTitle        Date  \\\n",
       "0      u/sc1234     Fibonacci sequence approach  2012-12-11   \n",
       "1   u/[deleted]                    Please help.  2012-12-12   \n",
       "2  u/IVtheGREEN  Everything is easy in thought.  2012-12-12   \n",
       "3     u/Cog-Rat           Balance Makes Perfect  2012-12-12   \n",
       "4   u/BitJuNkiE            Highschool conflicts  2012-12-12   \n",
       "\n",
       "                                           Full_Post  \\\n",
       "0  Thanks to JoshTay for setting this up. Here's ...   \n",
       "1  Alright i just want to start right off the bat...   \n",
       "2  I have no desire to stop smoking. I am a 17 ye...   \n",
       "3  Iv'e found that when I rush home and pack my f...   \n",
       "4  Hey r/petioles, I have some questions I would ...   \n",
       "\n",
       "                                             PostURL  Upvotes  WordCount  \\\n",
       "0  http://www.reddit.com/r/Petioles/comments/14ow...       55        243   \n",
       "1  http://www.reddit.com/r/Petioles/comments/14r4...        0        129   \n",
       "2  http://www.reddit.com/r/Petioles/comments/14r4...        8        129   \n",
       "3  http://www.reddit.com/r/Petioles/comments/14r3...       38        192   \n",
       "4  http://www.reddit.com/r/Petioles/comments/14qt...        1         74   \n",
       "\n",
       "                                   Cleaned_Full_Post  \n",
       "0  Thanks JoshTay setting . 's comment made earli...  \n",
       "1  Alright want start right bat saying understand...  \n",
       "2  desire stop smoking . 17 year old honor societ...  \n",
       "3  Iv ' e found rush home pack first bowl seconds...  \n",
       "4  Hey r/petioles , questions would like second o...  "
      ]
     },
     "execution_count": 15,
     "metadata": {},
     "output_type": "execute_result"
    }
   ],
   "source": [
    "df.head()"
   ]
  },
  {
   "cell_type": "code",
   "execution_count": 16,
   "id": "dbebf715",
   "metadata": {
    "id": "dbebf715"
   },
   "outputs": [],
   "source": [
    "df = df[['Username', 'PostTitle','Date','Full_Post','PostURL','Upvotes','WordCount','Cleaned_Full_Post']]"
   ]
  },
  {
   "cell_type": "code",
   "execution_count": 17,
   "id": "b17fc8e1",
   "metadata": {
    "id": "b17fc8e1",
    "scrolled": true
   },
   "outputs": [],
   "source": [
    "df['full_text'] = df['PostTitle'] + ' ' + df['Full_Post']"
   ]
  },
  {
   "cell_type": "code",
   "execution_count": null,
   "id": "88a22e13",
   "metadata": {
    "id": "88a22e13"
   },
   "outputs": [],
   "source": []
  },
  {
   "cell_type": "code",
   "execution_count": 18,
   "id": "59938fde",
   "metadata": {
    "id": "59938fde"
   },
   "outputs": [],
   "source": [
    "df['word_counts'] = df['full_text'].apply(lambda n: len(n.split()))"
   ]
  },
  {
   "cell_type": "code",
   "execution_count": 19,
   "id": "7f6e212c",
   "metadata": {
    "id": "7f6e212c"
   },
   "outputs": [],
   "source": [
    "df['cleaned_text'] = df['full_text'].apply(clean_text)"
   ]
  },
  {
   "cell_type": "code",
   "execution_count": 20,
   "id": "0e41dcc4",
   "metadata": {
    "id": "0e41dcc4",
    "outputId": "8895bb5c-7fd6-4bd9-cec1-cc5413ecf11f"
   },
   "outputs": [
    {
     "data": {
      "text/html": [
       "<div>\n",
       "<style scoped>\n",
       "    .dataframe tbody tr th:only-of-type {\n",
       "        vertical-align: middle;\n",
       "    }\n",
       "\n",
       "    .dataframe tbody tr th {\n",
       "        vertical-align: top;\n",
       "    }\n",
       "\n",
       "    .dataframe thead th {\n",
       "        text-align: right;\n",
       "    }\n",
       "</style>\n",
       "<table border=\"1\" class=\"dataframe\">\n",
       "  <thead>\n",
       "    <tr style=\"text-align: right;\">\n",
       "      <th></th>\n",
       "      <th>Username</th>\n",
       "      <th>PostTitle</th>\n",
       "      <th>Date</th>\n",
       "      <th>Full_Post</th>\n",
       "      <th>PostURL</th>\n",
       "      <th>Upvotes</th>\n",
       "      <th>WordCount</th>\n",
       "      <th>Cleaned_Full_Post</th>\n",
       "      <th>full_text</th>\n",
       "      <th>word_counts</th>\n",
       "      <th>cleaned_text</th>\n",
       "    </tr>\n",
       "  </thead>\n",
       "  <tbody>\n",
       "    <tr>\n",
       "      <th>0</th>\n",
       "      <td>u/sc1234</td>\n",
       "      <td>Fibonacci sequence approach</td>\n",
       "      <td>2012-12-11</td>\n",
       "      <td>Thanks to JoshTay for setting this up. Here's ...</td>\n",
       "      <td>http://www.reddit.com/r/Petioles/comments/14ow...</td>\n",
       "      <td>55</td>\n",
       "      <td>243</td>\n",
       "      <td>Thanks JoshTay setting . 's comment made earli...</td>\n",
       "      <td>Fibonacci sequence approach Thanks to JoshTay ...</td>\n",
       "      <td>246</td>\n",
       "      <td>fibonacci sequence approach thanks to joshtay ...</td>\n",
       "    </tr>\n",
       "    <tr>\n",
       "      <th>1</th>\n",
       "      <td>u/[deleted]</td>\n",
       "      <td>Please help.</td>\n",
       "      <td>2012-12-12</td>\n",
       "      <td>Alright i just want to start right off the bat...</td>\n",
       "      <td>http://www.reddit.com/r/Petioles/comments/14r4...</td>\n",
       "      <td>0</td>\n",
       "      <td>129</td>\n",
       "      <td>Alright want start right bat saying understand...</td>\n",
       "      <td>Please help. Alright i just want to start righ...</td>\n",
       "      <td>131</td>\n",
       "      <td>please help alright i just want to start right...</td>\n",
       "    </tr>\n",
       "    <tr>\n",
       "      <th>2</th>\n",
       "      <td>u/IVtheGREEN</td>\n",
       "      <td>Everything is easy in thought.</td>\n",
       "      <td>2012-12-12</td>\n",
       "      <td>I have no desire to stop smoking. I am a 17 ye...</td>\n",
       "      <td>http://www.reddit.com/r/Petioles/comments/14r4...</td>\n",
       "      <td>8</td>\n",
       "      <td>129</td>\n",
       "      <td>desire stop smoking . 17 year old honor societ...</td>\n",
       "      <td>Everything is easy in thought. I have no desir...</td>\n",
       "      <td>134</td>\n",
       "      <td>everything is easy in thought i have no desire...</td>\n",
       "    </tr>\n",
       "    <tr>\n",
       "      <th>3</th>\n",
       "      <td>u/Cog-Rat</td>\n",
       "      <td>Balance Makes Perfect</td>\n",
       "      <td>2012-12-12</td>\n",
       "      <td>Iv'e found that when I rush home and pack my f...</td>\n",
       "      <td>http://www.reddit.com/r/Petioles/comments/14r3...</td>\n",
       "      <td>38</td>\n",
       "      <td>192</td>\n",
       "      <td>Iv ' e found rush home pack first bowl seconds...</td>\n",
       "      <td>Balance Makes Perfect Iv'e found that when I r...</td>\n",
       "      <td>195</td>\n",
       "      <td>balance makes perfect ive found that when i ru...</td>\n",
       "    </tr>\n",
       "    <tr>\n",
       "      <th>4</th>\n",
       "      <td>u/BitJuNkiE</td>\n",
       "      <td>Highschool conflicts</td>\n",
       "      <td>2012-12-12</td>\n",
       "      <td>Hey r/petioles, I have some questions I would ...</td>\n",
       "      <td>http://www.reddit.com/r/Petioles/comments/14qt...</td>\n",
       "      <td>1</td>\n",
       "      <td>74</td>\n",
       "      <td>Hey r/petioles , questions would like second o...</td>\n",
       "      <td>Highschool conflicts Hey r/petioles, I have so...</td>\n",
       "      <td>76</td>\n",
       "      <td>highschool conflicts hey rpetioles i have some...</td>\n",
       "    </tr>\n",
       "    <tr>\n",
       "      <th>...</th>\n",
       "      <td>...</td>\n",
       "      <td>...</td>\n",
       "      <td>...</td>\n",
       "      <td>...</td>\n",
       "      <td>...</td>\n",
       "      <td>...</td>\n",
       "      <td>...</td>\n",
       "      <td>...</td>\n",
       "      <td>...</td>\n",
       "      <td>...</td>\n",
       "      <td>...</td>\n",
       "    </tr>\n",
       "    <tr>\n",
       "      <th>17005</th>\n",
       "      <td>u/KaKapowpow</td>\n",
       "      <td>What are your favorite tools for moderation?</td>\n",
       "      <td>2022-12-31</td>\n",
       "      <td>I have noticed that my smoking has become more...</td>\n",
       "      <td>https://www.reddit.com/r/Petioles/comments/100...</td>\n",
       "      <td>31</td>\n",
       "      <td>264</td>\n",
       "      <td>noticed smoking become habit anything 'm const...</td>\n",
       "      <td>What are your favorite tools for moderation? I...</td>\n",
       "      <td>271</td>\n",
       "      <td>what are your favorite tools for moderation i ...</td>\n",
       "    </tr>\n",
       "    <tr>\n",
       "      <th>17006</th>\n",
       "      <td>u/TimelyInspection4129</td>\n",
       "      <td>Edibles</td>\n",
       "      <td>2022-12-31</td>\n",
       "      <td>I’m here at 4 weeks with no joint/blunts! Howe...</td>\n",
       "      <td>https://www.reddit.com/r/Petioles/comments/100...</td>\n",
       "      <td>15</td>\n",
       "      <td>73</td>\n",
       "      <td>’ 4 weeks joint/blunts ! However , ’ stuck 10m...</td>\n",
       "      <td>Edibles I’m here at 4 weeks with no joint/blun...</td>\n",
       "      <td>74</td>\n",
       "      <td>edibles im here at 4 weeks with no jointblunts...</td>\n",
       "    </tr>\n",
       "    <tr>\n",
       "      <th>17007</th>\n",
       "      <td>u/VampireNugz</td>\n",
       "      <td>How a year of excess weed changed me for the b...</td>\n",
       "      <td>2022-12-31</td>\n",
       "      <td>Worked at a dispensary and made it a goal to s...</td>\n",
       "      <td>https://www.reddit.com/r/Petioles/comments/100...</td>\n",
       "      <td>284</td>\n",
       "      <td>651</td>\n",
       "      <td>Worked dispensary made goal smoke much wanted ...</td>\n",
       "      <td>How a year of excess weed changed me for the b...</td>\n",
       "      <td>664</td>\n",
       "      <td>how a year of excess weed changed me for the b...</td>\n",
       "    </tr>\n",
       "    <tr>\n",
       "      <th>17008</th>\n",
       "      <td>u/throwawayadvice102</td>\n",
       "      <td>How did CBD help you with THC withdrawals and ...</td>\n",
       "      <td>2022-12-31</td>\n",
       "      <td>How did CBD help you with THC withdrawals and ...</td>\n",
       "      <td>https://www.reddit.com/r/Petioles/comments/100...</td>\n",
       "      <td>7</td>\n",
       "      <td>273</td>\n",
       "      <td>CBD help THC withdrawals months following ? 'm...</td>\n",
       "      <td>How did CBD help you with THC withdrawals and ...</td>\n",
       "      <td>293</td>\n",
       "      <td>how did cbd help you with thc withdrawals and ...</td>\n",
       "    </tr>\n",
       "    <tr>\n",
       "      <th>17009</th>\n",
       "      <td>u/scorpost</td>\n",
       "      <td>Is 21 full days necessary?</td>\n",
       "      <td>2022-12-31</td>\n",
       "      <td>Hi friends. I was a daily user for a over year...</td>\n",
       "      <td>https://www.reddit.com/r/Petioles/comments/100...</td>\n",
       "      <td>6</td>\n",
       "      <td>99</td>\n",
       "      <td>Hi friends . daily user year successfully redu...</td>\n",
       "      <td>Is 21 full days necessary? Hi friends. I was a...</td>\n",
       "      <td>104</td>\n",
       "      <td>is 21 full days necessary hi friends i was a d...</td>\n",
       "    </tr>\n",
       "  </tbody>\n",
       "</table>\n",
       "<p>17010 rows × 11 columns</p>\n",
       "</div>"
      ],
      "text/plain": [
       "                     Username  \\\n",
       "0                    u/sc1234   \n",
       "1                 u/[deleted]   \n",
       "2                u/IVtheGREEN   \n",
       "3                   u/Cog-Rat   \n",
       "4                 u/BitJuNkiE   \n",
       "...                       ...   \n",
       "17005            u/KaKapowpow   \n",
       "17006  u/TimelyInspection4129   \n",
       "17007           u/VampireNugz   \n",
       "17008    u/throwawayadvice102   \n",
       "17009              u/scorpost   \n",
       "\n",
       "                                               PostTitle        Date  \\\n",
       "0                            Fibonacci sequence approach  2012-12-11   \n",
       "1                                           Please help.  2012-12-12   \n",
       "2                         Everything is easy in thought.  2012-12-12   \n",
       "3                                  Balance Makes Perfect  2012-12-12   \n",
       "4                                   Highschool conflicts  2012-12-12   \n",
       "...                                                  ...         ...   \n",
       "17005       What are your favorite tools for moderation?  2022-12-31   \n",
       "17006                                            Edibles  2022-12-31   \n",
       "17007  How a year of excess weed changed me for the b...  2022-12-31   \n",
       "17008  How did CBD help you with THC withdrawals and ...  2022-12-31   \n",
       "17009                         Is 21 full days necessary?  2022-12-31   \n",
       "\n",
       "                                               Full_Post  \\\n",
       "0      Thanks to JoshTay for setting this up. Here's ...   \n",
       "1      Alright i just want to start right off the bat...   \n",
       "2      I have no desire to stop smoking. I am a 17 ye...   \n",
       "3      Iv'e found that when I rush home and pack my f...   \n",
       "4      Hey r/petioles, I have some questions I would ...   \n",
       "...                                                  ...   \n",
       "17005  I have noticed that my smoking has become more...   \n",
       "17006  I’m here at 4 weeks with no joint/blunts! Howe...   \n",
       "17007  Worked at a dispensary and made it a goal to s...   \n",
       "17008  How did CBD help you with THC withdrawals and ...   \n",
       "17009  Hi friends. I was a daily user for a over year...   \n",
       "\n",
       "                                                 PostURL  Upvotes  WordCount  \\\n",
       "0      http://www.reddit.com/r/Petioles/comments/14ow...       55        243   \n",
       "1      http://www.reddit.com/r/Petioles/comments/14r4...        0        129   \n",
       "2      http://www.reddit.com/r/Petioles/comments/14r4...        8        129   \n",
       "3      http://www.reddit.com/r/Petioles/comments/14r3...       38        192   \n",
       "4      http://www.reddit.com/r/Petioles/comments/14qt...        1         74   \n",
       "...                                                  ...      ...        ...   \n",
       "17005  https://www.reddit.com/r/Petioles/comments/100...       31        264   \n",
       "17006  https://www.reddit.com/r/Petioles/comments/100...       15         73   \n",
       "17007  https://www.reddit.com/r/Petioles/comments/100...      284        651   \n",
       "17008  https://www.reddit.com/r/Petioles/comments/100...        7        273   \n",
       "17009  https://www.reddit.com/r/Petioles/comments/100...        6         99   \n",
       "\n",
       "                                       Cleaned_Full_Post  \\\n",
       "0      Thanks JoshTay setting . 's comment made earli...   \n",
       "1      Alright want start right bat saying understand...   \n",
       "2      desire stop smoking . 17 year old honor societ...   \n",
       "3      Iv ' e found rush home pack first bowl seconds...   \n",
       "4      Hey r/petioles , questions would like second o...   \n",
       "...                                                  ...   \n",
       "17005  noticed smoking become habit anything 'm const...   \n",
       "17006  ’ 4 weeks joint/blunts ! However , ’ stuck 10m...   \n",
       "17007  Worked dispensary made goal smoke much wanted ...   \n",
       "17008  CBD help THC withdrawals months following ? 'm...   \n",
       "17009  Hi friends . daily user year successfully redu...   \n",
       "\n",
       "                                               full_text  word_counts  \\\n",
       "0      Fibonacci sequence approach Thanks to JoshTay ...          246   \n",
       "1      Please help. Alright i just want to start righ...          131   \n",
       "2      Everything is easy in thought. I have no desir...          134   \n",
       "3      Balance Makes Perfect Iv'e found that when I r...          195   \n",
       "4      Highschool conflicts Hey r/petioles, I have so...           76   \n",
       "...                                                  ...          ...   \n",
       "17005  What are your favorite tools for moderation? I...          271   \n",
       "17006  Edibles I’m here at 4 weeks with no joint/blun...           74   \n",
       "17007  How a year of excess weed changed me for the b...          664   \n",
       "17008  How did CBD help you with THC withdrawals and ...          293   \n",
       "17009  Is 21 full days necessary? Hi friends. I was a...          104   \n",
       "\n",
       "                                            cleaned_text  \n",
       "0      fibonacci sequence approach thanks to joshtay ...  \n",
       "1      please help alright i just want to start right...  \n",
       "2      everything is easy in thought i have no desire...  \n",
       "3      balance makes perfect ive found that when i ru...  \n",
       "4      highschool conflicts hey rpetioles i have some...  \n",
       "...                                                  ...  \n",
       "17005  what are your favorite tools for moderation i ...  \n",
       "17006  edibles im here at 4 weeks with no jointblunts...  \n",
       "17007  how a year of excess weed changed me for the b...  \n",
       "17008  how did cbd help you with thc withdrawals and ...  \n",
       "17009  is 21 full days necessary hi friends i was a d...  \n",
       "\n",
       "[17010 rows x 11 columns]"
      ]
     },
     "execution_count": 20,
     "metadata": {},
     "output_type": "execute_result"
    }
   ],
   "source": [
    "df"
   ]
  },
  {
   "cell_type": "code",
   "execution_count": 21,
   "id": "667c5805",
   "metadata": {
    "id": "667c5805"
   },
   "outputs": [],
   "source": [
    "filtered_df = df[(df['word_counts'] <= 600)]"
   ]
  },
  {
   "cell_type": "code",
   "execution_count": 22,
   "id": "9f950a1a",
   "metadata": {
    "id": "9f950a1a",
    "scrolled": true
   },
   "outputs": [],
   "source": [
    "input_labels = ['Consumption for Recreational Use such as enjoyment and relaxation',\n",
    "'Consumption due to Social Influence such as peer pressure or social group',\n",
    "'Consumption for Curiosity experimentation or initial trial',\n",
    "'Consumption for Sleep Improvement',\n",
    "'Consumption for Stress Relief',\n",
    "'Consumption for Medical Use including Pain relief anxiety depression management',\n",
    "'Consumption reason not mentioned']"
   ]
  },
  {
   "cell_type": "code",
   "execution_count": 23,
   "id": "831e6b5b",
   "metadata": {
    "id": "831e6b5b"
   },
   "outputs": [],
   "source": [
    "tqdm.pandas()"
   ]
  },
  {
   "cell_type": "code",
   "execution_count": null,
   "id": "e6f037b2",
   "metadata": {
    "id": "e6f037b2",
    "outputId": "8a9abc07-3c98-4ca7-9227-622c33995917"
   },
   "outputs": [
    {
     "name": "stderr",
     "output_type": "stream",
     "text": [
      "  2%|▊                                 | 394/16419 [5:34:15<69:20:46, 15.58s/it]"
     ]
    }
   ],
   "source": [
    "filtered_df.loc[:, 'confidence_consumption_reasons_scores'] = filtered_df ['full_text'].progress_apply(lambda x: classify_and_extract_scores(x, input_labels))"
   ]
  },
  {
   "cell_type": "code",
   "execution_count": null,
   "id": "0869b51d",
   "metadata": {
    "id": "0869b51d",
    "outputId": "e5992484-1fc4-4618-c913-4409af6e747a"
   },
   "outputs": [],
   "source": [
    "filtered_df"
   ]
  },
  {
   "cell_type": "code",
   "execution_count": null,
   "id": "ed868630",
   "metadata": {},
   "outputs": [],
   "source": [
    "input_labels = ['Effective reduction in consumption by maintaining lower use',\n",
    "'Complete cessation or stooping the use of cannabis',\n",
    "'Returning to previous levels of use after attempting to quit',\n",
    "'Continuous effort with varying success and challenges',\n",
    "'Temporary cessation followed by periods of use',\n",
    "'Desire to change without actual modification in habits',\n",
    "'No outcome mentioned' ]"
   ]
  },
  {
   "cell_type": "code",
   "execution_count": null,
   "id": "d5acfe09",
   "metadata": {},
   "outputs": [],
   "source": [
    "filtered_df.loc[:, 'confidence_quitting_reasons_scores'] = filtered_df ['full_text'].progress_apply(lambda x: classify_and_extract_scores(x, input_labels))"
   ]
  },
  {
   "cell_type": "code",
   "execution_count": null,
   "id": "82685b53",
   "metadata": {},
   "outputs": [],
   "source": [
    "filtered_df"
   ]
  },
  {
   "cell_type": "code",
   "execution_count": null,
   "id": "dca66b51",
   "metadata": {},
   "outputs": [],
   "source": []
  }
 ],
 "metadata": {
  "colab": {
   "provenance": []
  },
  "kernelspec": {
   "display_name": "Python 3 (ipykernel)",
   "language": "python",
   "name": "python3"
  },
  "language_info": {
   "codemirror_mode": {
    "name": "ipython",
    "version": 3
   },
   "file_extension": ".py",
   "mimetype": "text/x-python",
   "name": "python",
   "nbconvert_exporter": "python",
   "pygments_lexer": "ipython3",
   "version": "3.11.7"
  }
 },
 "nbformat": 4,
 "nbformat_minor": 5
}
