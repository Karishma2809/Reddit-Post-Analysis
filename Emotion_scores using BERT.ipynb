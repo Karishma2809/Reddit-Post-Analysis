{
 "cells": [
  {
   "cell_type": "code",
   "execution_count": 1,
   "id": "07fa4ecd",
   "metadata": {},
   "outputs": [],
   "source": [
    "import pandas as pd\n",
    "\n",
    "# Load the data\n",
    "data = pd.read_excel(\"D:/IDS 506 Healthcare/project/Reddit_Final_Output.xlsx\")"
   ]
  },
  {
   "cell_type": "code",
   "execution_count": 2,
   "id": "35986671",
   "metadata": {},
   "outputs": [],
   "source": [
    "from transformers import AutoTokenizer, AutoModelForSequenceClassification\n",
    "from torch.nn.functional import softmax\n",
    "import torch"
   ]
  },
  {
   "cell_type": "code",
   "execution_count": 4,
   "id": "1d6b7dd0",
   "metadata": {},
   "outputs": [],
   "source": [
    "import warnings\n",
    "\n",
    "# Suppress specific deprecation warnings\n",
    "warnings.filterwarnings(\"ignore\", category=UserWarning, module='transformers')"
   ]
  },
  {
   "cell_type": "code",
   "execution_count": 5,
   "id": "ba7dc877",
   "metadata": {},
   "outputs": [],
   "source": [
    "# Load tokenizer and model\n",
    "model_name = \"bhadresh-savani/bert-base-uncased-emotion\"\n",
    "tokenizer = AutoTokenizer.from_pretrained(model_name)\n",
    "model = AutoModelForSequenceClassification.from_pretrained(model_name)"
   ]
  },
  {
   "cell_type": "code",
   "execution_count": 6,
   "id": "3213e509",
   "metadata": {},
   "outputs": [],
   "source": [
    "# Define a function to process each title and predict emotional scores\n",
    "def get_emotion_scores(text):\n",
    "    # Ensure text is a string\n",
    "    if not isinstance(text, str):\n",
    "        return \"Invalid input type\"  # or handle as needed\n",
    "    # Encode text and send to model\n",
    "    inputs = tokenizer(text, return_tensors=\"pt\", padding=True, truncation=True, max_length=512)\n",
    "    with torch.no_grad():\n",
    "        logits = model(**inputs).logits\n",
    "    # Calculate softmax to get probabilities\n",
    "    probabilities = softmax(logits, dim=1)\n",
    "    # Convert probabilities to list and assign to respective emotions\n",
    "    emotions = ['sadness', 'joy', 'anger', 'surprise', 'fear', 'love']  # adjust based on your model's output\n",
    "    return dict(zip(emotions, probabilities[0].numpy()))"
   ]
  },
  {
   "cell_type": "code",
   "execution_count": 7,
   "id": "9907783d",
   "metadata": {},
   "outputs": [],
   "source": [
    "# Apply the function to each title\n",
    "data['Emotion Scores'] = data['Full_Post'].apply(get_emotion_scores)"
   ]
  },
  {
   "cell_type": "code",
   "execution_count": null,
   "id": "f8b00f4f",
   "metadata": {},
   "outputs": [],
   "source": []
  },
  {
   "cell_type": "code",
   "execution_count": null,
   "id": "8d0acea4",
   "metadata": {},
   "outputs": [],
   "source": []
  }
 ],
 "metadata": {
  "kernelspec": {
   "display_name": "Python 3 (ipykernel)",
   "language": "python",
   "name": "python3"
  },
  "language_info": {
   "codemirror_mode": {
    "name": "ipython",
    "version": 3
   },
   "file_extension": ".py",
   "mimetype": "text/x-python",
   "name": "python",
   "nbconvert_exporter": "python",
   "pygments_lexer": "ipython3",
   "version": "3.11.5"
  }
 },
 "nbformat": 4,
 "nbformat_minor": 5
}
